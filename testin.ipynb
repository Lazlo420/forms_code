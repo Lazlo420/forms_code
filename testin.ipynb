{
 "cells": [
  {
   "cell_type": "code",
   "execution_count": 9,
   "metadata": {},
   "outputs": [],
   "source": [
    "from selenium import webdriver\n",
    "from selenium.webdriver.common.keys import Keys\n",
    "from selenium.webdriver.common.by import By\n",
    "from selenium.webdriver.support.ui import Select\n",
    "import time\n",
    "from selenium.webdriver.support.ui import WebDriverWait\n",
    "from selenium.webdriver.support import expected_conditions as EC\n"
   ]
  },
  {
   "cell_type": "code",
   "execution_count": 10,
   "metadata": {},
   "outputs": [],
   "source": [
    "driver = webdriver.Chrome()"
   ]
  },
  {
   "cell_type": "code",
   "execution_count": 11,
   "metadata": {},
   "outputs": [],
   "source": [
    "page='https://docs.google.com/forms/d/e/1FAIpQLSceTemWRZQtMcHhbfD31Lmr-RDg6qiMx1V1cjHO2fFjE1KDig/viewform?pli=1&pli=1'"
   ]
  },
  {
   "cell_type": "code",
   "execution_count": 12,
   "metadata": {},
   "outputs": [],
   "source": [
    "driver.get(page)"
   ]
  },
  {
   "cell_type": "markdown",
   "metadata": {},
   "source": [
    "Correo"
   ]
  },
  {
   "cell_type": "code",
   "execution_count": 13,
   "metadata": {},
   "outputs": [],
   "source": [
    "upload_field = driver.find_element(By.CSS_SELECTOR,\"input[type='email']\")\n",
    "upload_field.clear()\n",
    "upload_field.send_keys('GR.AlvisB@alum.up.edu.pe')"
   ]
  },
  {
   "cell_type": "markdown",
   "metadata": {},
   "source": [
    "Datos"
   ]
  },
  {
   "cell_type": "code",
   "execution_count": 14,
   "metadata": {},
   "outputs": [],
   "source": [
    "nombre=driver.find_element(By.CSS_SELECTOR,'input[aria-labelledby=\"i5\"]')\n",
    "nombre.clear()\n",
    "nombre.send_keys('Gonzalo Alvis Bustamante')\n",
    "codigo=driver.find_element(By.CSS_SELECTOR,'input[aria-labelledby=\"i9\"]')\n",
    "codigo.clear()\n",
    "codigo.send_keys('000238675')\n",
    "telefono=driver.find_element(By.CSS_SELECTOR,'input[aria-labelledby=\"i13\"]')\n",
    "telefono.clear()\n",
    "telefono.send_keys('920711402')\n",
    "#seleccion=driver.find_element(By.CSS_SELECTOR,'input[aria-labelledby=\"i\"]')\n",
    "#seleccion.clear()\n",
    "#seleccion.send_keys()\n",
    "actividad=driver.find_element(By.CSS_SELECTOR,'input[aria-labelledby=\"i21\"]')\n",
    "actividad.clear()\n",
    "actividad.send_keys('Coso')\n",
    "objetivo=driver.find_element(By.CSS_SELECTOR,'textarea[aria-labelledby=\"i25\"]')\n",
    "objetivo.clear()\n",
    "objetivo.send_keys('Coso')"
   ]
  },
  {
   "cell_type": "markdown",
   "metadata": {},
   "source": []
  },
  {
   "cell_type": "code",
   "execution_count": 20,
   "metadata": {},
   "outputs": [],
   "source": [
    "# Espera hasta que el dropdown list esté presente en la página\n",
    "dropdown = WebDriverWait(driver, 10).until(\n",
    "    EC.presence_of_element_located((By.XPATH, \"//div[@jsname='LgbsSe']\"))\n",
    ")\n",
    "\n",
    "# Hacer clic en el dropdown list para abrirlo\n",
    "dropdown.click()"
   ]
  },
  {
   "cell_type": "code",
   "execution_count": 21,
   "metadata": {},
   "outputs": [
    {
     "data": {
      "text/plain": [
       "<selenium.webdriver.remote.webelement.WebElement (session=\"26c5c0fe85e41e142ffa7097b0a68b74\", element=\"f.4BCB6FFF1CE9448301A1B6DFC672642A.d.C239219E4BAF6612E333ADB00533FC8F.e.27\")>"
      ]
     },
     "execution_count": 21,
     "metadata": {},
     "output_type": "execute_result"
    }
   ],
   "source": [
    "# Esperar a que aparezca la opción \"CODE UP\" y seleccionarla\n",
    "code_up_option = WebDriverWait(driver, 10).until(\n",
    "    EC.presence_of_element_located((By.XPATH, \"//div[@data-value='CODE UP']\"))\n",
    ")\n",
    "\n",
    "code_up_option"
   ]
  }
 ],
 "metadata": {
  "kernelspec": {
   "display_name": ".venv",
   "language": "python",
   "name": "python3"
  },
  "language_info": {
   "codemirror_mode": {
    "name": "ipython",
    "version": 3
   },
   "file_extension": ".py",
   "mimetype": "text/x-python",
   "name": "python",
   "nbconvert_exporter": "python",
   "pygments_lexer": "ipython3",
   "version": "3.10.10"
  }
 },
 "nbformat": 4,
 "nbformat_minor": 2
}
