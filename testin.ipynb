{
 "cells": [
  {
   "cell_type": "code",
   "execution_count": 1,
   "metadata": {},
   "outputs": [],
   "source": [
    "from selenium import webdriver\n",
    "from selenium.webdriver.common.keys import Keys\n",
    "from selenium.webdriver.common.by import By\n",
    "from selenium.webdriver.support.ui import Select\n",
    "import time\n",
    "from selenium.webdriver.support.ui import WebDriverWait\n",
    "from selenium.webdriver.support import expected_conditions as EC\n",
    "\n",
    "from selenium.webdriver.common.action_chains import ActionChains\n",
    "from selenium.webdriver.support.ui import WebDriverWait\n",
    "from selenium.webdriver.common.by import By\n",
    "from selenium.webdriver.support import expected_conditions as EC\n"
   ]
  },
  {
   "cell_type": "code",
   "execution_count": 2,
   "metadata": {},
   "outputs": [],
   "source": [
    "driver = webdriver.Chrome()"
   ]
  },
  {
   "cell_type": "code",
   "execution_count": 3,
   "metadata": {},
   "outputs": [],
   "source": [
    "page='https://docs.google.com/forms/d/e/1FAIpQLSceTemWRZQtMcHhbfD31Lmr-RDg6qiMx1V1cjHO2fFjE1KDig/viewform?pli=1&pli=1'"
   ]
  },
  {
   "cell_type": "code",
   "execution_count": 4,
   "metadata": {},
   "outputs": [],
   "source": [
    "driver.get(page)"
   ]
  },
  {
   "cell_type": "markdown",
   "metadata": {},
   "source": [
    "Correo"
   ]
  },
  {
   "cell_type": "code",
   "execution_count": 5,
   "metadata": {},
   "outputs": [],
   "source": [
    "actividad=['Pre-Final Herramientas de Programacion','Pre-Final Analitica de Datos','Pre-Final Nive Info']\n",
    "fechas=['06242024','06252024','06262024']\n",
    "inicio='1730'\n",
    "final='1930'\n",
    "i=2"
   ]
  },
  {
   "cell_type": "markdown",
   "metadata": {},
   "source": [
    "Datos"
   ]
  },
  {
   "cell_type": "code",
   "execution_count": 6,
   "metadata": {},
   "outputs": [],
   "source": [
    "upload_field = driver.find_element(By.CSS_SELECTOR,\"input[type='email']\")\n",
    "upload_field.clear()\n",
    "upload_field.send_keys('GR.AlvisB@alum.up.edu.pe')\n",
    "nombredelaactividad=actividad[i]\n",
    "objetivodelaactividad='Apoyo a la comunidad universitaria en el desarrollo de sus actividades academicas'\n",
    "nombre=driver.find_element(By.CSS_SELECTOR,'input[aria-labelledby=\"i5\"]')\n",
    "nombre.clear()\n",
    "nombre.send_keys('Gonzalo Alvis Bustamante')\n",
    "codigo=driver.find_element(By.CSS_SELECTOR,'input[aria-labelledby=\"i9\"]')\n",
    "codigo.clear()\n",
    "codigo.send_keys('000238675')\n",
    "telefono=driver.find_element(By.CSS_SELECTOR,'input[aria-labelledby=\"i13\"]')\n",
    "telefono.clear()\n",
    "telefono.send_keys('920711402')\n",
    "#seleccion=driver.find_element(By.CSS_SELECTOR,'input[aria-labelledby=\"i\"]')\n",
    "#seleccion.clear()\n",
    "#seleccion.send_keys()\n",
    "actividad=driver.find_element(By.CSS_SELECTOR,'input[aria-labelledby=\"i21\"]')\n",
    "actividad.clear()\n",
    "actividad.send_keys(nombredelaactividad)\n",
    "objetivo=driver.find_element(By.CSS_SELECTOR,'textarea[aria-labelledby=\"i25\"]')\n",
    "objetivo.clear()\n",
    "objetivo.send_keys(objetivodelaactividad)\n",
    "i=i+1"
   ]
  },
  {
   "cell_type": "code",
   "execution_count": 7,
   "metadata": {},
   "outputs": [],
   "source": [
    "## Click en Siguiente\n",
    "boton = driver.find_element(By.XPATH, \"//span[contains(text(), 'Siguiente')]\")\n",
    "boton.click()"
   ]
  },
  {
   "cell_type": "code",
   "execution_count": 8,
   "metadata": {},
   "outputs": [],
   "source": [
    "aforo=driver.find_element(By.CSS_SELECTOR,'input[aria-labelledby=\"i9\"]')\n",
    "aforo.clear()\n",
    "aforo.send_keys('30')\n",
    "## Click en Siguiente\n",
    "boton = driver.find_element(By.XPATH, \"//span[contains(text(), 'Siguiente')]\")\n",
    "boton.click()"
   ]
  },
  {
   "cell_type": "code",
   "execution_count": 9,
   "metadata": {},
   "outputs": [],
   "source": [
    "#fechas y horas\n",
    "fecha=driver.find_element(By.CSS_SELECTOR,'input[aria-labelledby=\"i9\"]')\n",
    "fecha.clear()\n",
    "fecha.send_keys(fechas[i-1])"
   ]
  },
  {
   "cell_type": "code",
   "execution_count": 10,
   "metadata": {},
   "outputs": [],
   "source": [
    "from selenium.webdriver.common.action_chains import ActionChains\n",
    "action = ActionChains(driver)\n",
    "#hora\n",
    "hi=driver.find_element(By.CSS_SELECTOR,'input[aria-label=\"Hora\"][jsname=\"YPqjbf\"]')\n",
    "hi.click()\n",
    "action.send_keys(inicio[0:2])\n",
    "action.perform()\n",
    "action.send_keys(Keys.TAB)\n",
    "action.perform()\n",
    "action.send_keys(inicio[2:])\n",
    "action.perform()\n",
    "action.send_keys(Keys.TAB)\n",
    "action.perform()\n",
    "action.send_keys(final[0:2])\n",
    "action.perform()\n",
    "action.send_keys(Keys.TAB)\n",
    "action.perform()\n",
    "action.send_keys(final[2:])\n",
    "action.perform()\n",
    "action.send_keys(Keys.TAB)\n",
    "action.perform()\n",
    "planbcont='Salon en el pabellon X, pabellon E, B501 o C402'\n",
    "planb=driver.find_element(By.CSS_SELECTOR,'textarea[aria-labelledby=\"i18\"]')\n",
    "planb.clear()\n",
    "planb.send_keys(planbcont)"
   ]
  },
  {
   "cell_type": "code",
   "execution_count": 11,
   "metadata": {},
   "outputs": [],
   "source": [
    "## Click en Siguiente\n",
    "boton = driver.find_element(By.XPATH, \"//span[contains(text(), 'Siguiente')]\")\n",
    "boton.click()\n",
    "time.sleep(2)\n",
    "requerimientos='Salon con equipo para los participantes (computadoras) y pantalla o proyector para dictar'\n",
    "req=driver.find_element(By.CSS_SELECTOR,'textarea[aria-labelledby=\"i5\"]')\n",
    "req.clear()\n",
    "req.send_keys(requerimientos)"
   ]
  }
 ],
 "metadata": {
  "kernelspec": {
   "display_name": ".venv",
   "language": "python",
   "name": "python3"
  },
  "language_info": {
   "codemirror_mode": {
    "name": "ipython",
    "version": 3
   },
   "file_extension": ".py",
   "mimetype": "text/x-python",
   "name": "python",
   "nbconvert_exporter": "python",
   "pygments_lexer": "ipython3",
   "version": "3.12.3"
  }
 },
 "nbformat": 4,
 "nbformat_minor": 2
}
